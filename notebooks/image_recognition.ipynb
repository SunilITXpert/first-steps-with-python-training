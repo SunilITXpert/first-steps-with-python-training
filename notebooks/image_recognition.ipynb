{
 "cells": [
  {
   "cell_type": "markdown",
   "id": "08699e33-d12e-4bf2-b9c9-1bcd8826f5af",
   "metadata": {},
   "source": [
    "# Step-by-Step Guide\n",
    "1. Setup and Installations - Ensure you have Python installed.\n",
    "2. Install the required packages - pip install opencv-python\n"
   ]
  },
  {
   "cell_type": "code",
   "execution_count": 1,
   "id": "e7bb9547-e448-4f72-8a65-5e3240c5e7c3",
   "metadata": {},
   "outputs": [
    {
     "name": "stdout",
     "output_type": "stream",
     "text": [
      "Defaulting to user installation because normal site-packages is not writeable\n",
      "Requirement already satisfied: opencv-python in c:\\users\\pc\\appdata\\roaming\\python\\python311\\site-packages (4.10.0.84)\n",
      "Requirement already satisfied: numpy>=1.21.2 in c:\\programdata\\anaconda3\\lib\\site-packages (from opencv-python) (1.26.4)\n",
      "Note: you may need to restart the kernel to use updated packages.\n"
     ]
    }
   ],
   "source": [
    "pip install opencv-python"
   ]
  },
  {
   "cell_type": "markdown",
   "id": "8eda9ee5-d559-4fd9-8c28-ef99b07057a4",
   "metadata": {},
   "source": [
    "# Code Implementation \n",
    "1. We'll use the Haar Cascades classifier provided by OpenCV for face detection.\n",
    "2. Structure the code into functions for better readability and maintainability.\n",
    "3. Use proper exception handling and logging for robustness."
   ]
  },
  {
   "cell_type": "code",
   "execution_count": 2,
   "id": "a883d36c-69c1-47fb-bfe3-904793f2ecf9",
   "metadata": {},
   "outputs": [
    {
     "name": "stderr",
     "output_type": "stream",
     "text": [
      "2024-06-25 12:32:55,951 - ERROR - Error loading image: No image found at images/image.jpg\n",
      "2024-06-25 12:32:55,951 - ERROR - An error occurred: No image found at images/image.jpg\n"
     ]
    }
   ],
   "source": [
    "import cv2\n",
    "import logging\n",
    "\n",
    "# Setup logging\n",
    "logging.basicConfig(level=logging.INFO, format='%(asctime)s - %(levelname)s - %(message)s')\n",
    "\n",
    "def load_image(image_path):\n",
    "    \"\"\"Load an image from the given path.\"\"\"\n",
    "    try:\n",
    "        image = cv2.imread(image_path)\n",
    "        if image is None:\n",
    "            raise FileNotFoundError(f\"No image found at {image_path}\")\n",
    "        logging.info(f\"Image loaded from {image_path}\")\n",
    "        return image\n",
    "    except Exception as e:\n",
    "        logging.error(f\"Error loading image: {e}\")\n",
    "        raise\n",
    "\n",
    "def convert_to_grayscale(image):\n",
    "    \"\"\"Convert the input image to grayscale.\"\"\"\n",
    "    gray_image = cv2.cvtColor(image, cv2.COLOR_BGR2GRAY)\n",
    "    logging.info(\"Converted image to grayscale\")\n",
    "    return gray_image\n",
    "\n",
    "def detect_faces(image, classifier_path):\n",
    "    \"\"\"Detect faces in the input image using the specified classifier.\"\"\"\n",
    "    face_cascade = cv2.CascadeClassifier(classifier_path)\n",
    "    if face_cascade.empty():\n",
    "        raise ValueError(f\"Failed to load classifier from {classifier_path}\")\n",
    "    \n",
    "    gray_image = convert_to_grayscale(image)\n",
    "    faces = face_cascade.detectMultiScale(gray_image, scaleFactor=1.1, minNeighbors=5, minSize=(30, 30))\n",
    "    logging.info(f\"Detected {len(faces)} faces\")\n",
    "    return faces\n",
    "\n",
    "def draw_faces(image, faces):\n",
    "    \"\"\"Draw rectangles around the detected faces.\"\"\"\n",
    "    for (x, y, w, h) in faces:\n",
    "        cv2.rectangle(image, (x, y), (x+w, y+h), (255, 0, 0), 2)\n",
    "    logging.info(\"Drew rectangles around faces\")\n",
    "    return image\n",
    "\n",
    "def save_image(image, output_path):\n",
    "    \"\"\"Save the image with detected faces to the specified path.\"\"\"\n",
    "    cv2.imwrite(output_path, image)\n",
    "    logging.info(f\"Saved image with faces to {output_path}\")\n",
    "\n",
    "def main(image_path, classifier_path, output_path):\n",
    "    \"\"\"Main function to run the face detection pipeline.\"\"\"\n",
    "    try:\n",
    "        image = load_image(image_path)\n",
    "        faces = detect_faces(image, classifier_path)\n",
    "        image_with_faces = draw_faces(image, faces)\n",
    "        save_image(image_with_faces, output_path)\n",
    "        logging.info(\"Face detection completed successfully\")\n",
    "    except Exception as e:\n",
    "        logging.error(f\"An error occurred: {e}\")\n",
    "\n",
    "if __name__ == \"__main__\":\n",
    "    # Example usage\n",
    "    image_path = 'yourimagepath/image.jpg'\n",
    "    classifier_path = cv2.data.haarcascades + 'haarcascade_frontalface_default.xml'\n",
    "    output_path = 'yourimagepath/image.jpg'\n",
    "    \n",
    "    main(image_path, classifier_path, output_path)"
   ]
  },
  {
   "cell_type": "markdown",
   "id": "7f42c6dc-289b-441b-8a5a-8c251a0d6449",
   "metadata": {},
   "source": [
    "# Explanation\n",
    "1. Logging - Logging is set up at the beginning to capture the flow of the program and any errors that occur.\n",
    "2. Modular Functions - load_image(): Loads an image from the file system.\n",
    "3. convert_to_grayscale(): Converts the image to grayscale, as face detection works better on grayscale images.\n",
    "4. detect_faces(): Uses a pre-trained Haar cascade classifier to detect faces in the image.\n",
    "5. draw_faces(): Draws rectangles around detected faces.\n",
    "\n",
    "6. save_image(): Saves the processed image to the file system.\n",
    "\n",
    "# Main Function:\n",
    "1. The main() function ties all the steps together, handling any exceptions that occur along the way.\n",
    "\n",
    "# Execution\n",
    "1. The script is designed to be executed as a standalone program with paths specified for input image, Haar cascade classifier, and output image.\n",
    "\n",
    "# Best Practices\n",
    "1. Exception Handling: Ensures the program can handle unexpected situations gracefully.\n",
    "2. Logging: Provides insights into the program's execution flow and helps in debugging.\n",
    "3. Modular Design: Makes the code more readable, maintainable, and testable.\n",
    "\n"
   ]
  }
 ],
 "metadata": {
  "kernelspec": {
   "display_name": "Python 3 (ipykernel)",
   "language": "python",
   "name": "python3"
  },
  "language_info": {
   "codemirror_mode": {
    "name": "ipython",
    "version": 3
   },
   "file_extension": ".py",
   "mimetype": "text/x-python",
   "name": "python",
   "nbconvert_exporter": "python",
   "pygments_lexer": "ipython3",
   "version": "3.11.7"
  }
 },
 "nbformat": 4,
 "nbformat_minor": 5
}
